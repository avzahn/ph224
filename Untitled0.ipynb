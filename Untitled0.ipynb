{
 "metadata": {
  "name": ""
 },
 "nbformat": 3,
 "nbformat_minor": 0,
 "worksheets": [
  {
   "cells": [
    {
     "cell_type": "code",
     "collapsed": false,
     "input": [
      "a = 1e-5 #cm\n",
      "T = 100 #K\n",
      "rho = 3e-3 # kg/cm^3\n",
      "n = 30 #cm^-3\n",
      "m=1.67e-27 #kg\n",
      "M=1.26e-7 #kg\n",
      "k=1.38e-23"
     ],
     "language": "python",
     "metadata": {},
     "outputs": []
    }
   ],
   "metadata": {}
  }
 ]
}