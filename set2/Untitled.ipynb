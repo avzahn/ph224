{
 "cells": [
  {
   "cell_type": "code",
   "execution_count": 1,
   "metadata": {
    "collapsed": false
   },
   "outputs": [
    {
     "name": "stdout",
     "output_type": "stream",
     "text": [
      "Using matplotlib backend: TkAgg\n",
      "Populating the interactive namespace from numpy and matplotlib\n"
     ]
    }
   ],
   "source": [
    "%pylab"
   ]
  },
  {
   "cell_type": "code",
   "execution_count": 2,
   "metadata": {
    "collapsed": true
   },
   "outputs": [],
   "source": [
    "wavelength = []\n",
    "intensity =[]\n",
    "with open(\"slit9_of_Baldwin_et_al_1991_corrpos_sum_nall.dat\",\"r\") as f:\n",
    "    for line in f.readlines():\n",
    "        line = line.split(' ')\n",
    "        wavelength.append(float(line[0]))\n",
    "        intensity.append(float(line[1]))\n",
    "        \n",
    "wavelength = np.array(wavelength)\n",
    "intensity = np.array(intensity)"
   ]
  },
  {
   "cell_type": "code",
   "execution_count": 3,
   "metadata": {
    "collapsed": false
   },
   "outputs": [
    {
     "data": {
      "text/plain": [
       "[<matplotlib.lines.Line2D at 0x7f60ffbf5210>]"
      ]
     },
     "execution_count": 3,
     "metadata": {},
     "output_type": "execute_result"
    }
   ],
   "source": [
    "plot(wavelength,intensity)"
   ]
  },
  {
   "cell_type": "code",
   "execution_count": 8,
   "metadata": {
    "collapsed": false
   },
   "outputs": [],
   "source": [
    "import pyfits\n",
    "image = np.copy(pyfits.open(\"emhalpha_flux.fits\")[0].data)"
   ]
  },
  {
   "cell_type": "code",
   "execution_count": 9,
   "metadata": {
    "collapsed": false
   },
   "outputs": [
    {
     "data": {
      "text/plain": [
       "<matplotlib.image.AxesImage at 0x7f60fec0d590>"
      ]
     },
     "execution_count": 9,
     "metadata": {},
     "output_type": "execute_result"
    }
   ],
   "source": [
    "imshow(image)"
   ]
  },
  {
   "cell_type": "code",
   "execution_count": 7,
   "metadata": {
    "collapsed": false
   },
   "outputs": [
    {
     "data": {
      "text/plain": [
       "[<matplotlib.lines.Line2D at 0x7f60fecd0250>]"
      ]
     },
     "execution_count": 7,
     "metadata": {},
     "output_type": "execute_result"
    }
   ],
   "source": [
    "plot(intensity)"
   ]
  },
  {
   "cell_type": "code",
   "execution_count": 91,
   "metadata": {
    "collapsed": false
   },
   "outputs": [],
   "source": [
    "def thresh(y,y0):\n",
    "    \"\"\"\n",
    "    Find all intervals above a threshold\n",
    "    \"\"\"\n",
    "    intervals = []\n",
    "    idx = []\n",
    "    \n",
    "    a = None\n",
    "    high = False\n",
    "    \n",
    "    for i,yy in enumerate(y):\n",
    "        \n",
    "        if yy >= y0:            \n",
    "            if high == False:\n",
    "                a = i\n",
    "                high = True\n",
    "        else:\n",
    "            if high == True:\n",
    "                intervals.append(y[a:i])\n",
    "                idx.append(a)\n",
    "                a = None\n",
    "            high = False\n",
    "            \n",
    "    return np.array(idx), np.array(intervals)\n",
    "             \n",
    "\n",
    "class tree(object):\n",
    "    \n",
    "    def __init__(self,y,offset,nlevels,accum='root'):\n",
    "        \n",
    "        if accum == 'root':\n",
    "            accum = np.zeros(len(y))\n",
    "        \n",
    "        \n",
    "        \n",
    "        self.accum = accum\n",
    "        self.y = y\n",
    "        self.offset = offset\n",
    "        self.max = max(y)\n",
    "        self.argmax = np.argmax(y)+offset\n",
    "        \n",
    "        print self.argmax\n",
    "        \n",
    "        count[self.argmax] += 1\n",
    "        \n",
    "        if (nlevels == 0):\n",
    "            self.subtrees = None\n",
    "            return\n",
    "        \n",
    "        idx, intervals = thresh(y,levels[0])\n",
    "        idx += offset\n",
    "        \n",
    "        self.idx = idx\n",
    "        self.intervals = intervals\n",
    "        \n",
    "        self.subtrees = []\n",
    "        \n",
    "        for _idx, _interval in zip(idx,intervals):\n",
    "            \n",
    "            self.subtrees.append(tree(_interval,_idx,levels[1:],count))\n",
    "        \n"
   ]
  },
  {
   "cell_type": "code",
   "execution_count": 33,
   "metadata": {
    "collapsed": false
   },
   "outputs": [],
   "source": [
    "h,b = np.histogram(image,bins=2000)\n",
    "b = b[:-1] + .5*np.diff(b)\n",
    "dflux = b * h\n",
    "ndflux = dflux/np.sum(dflux)"
   ]
  },
  {
   "cell_type": "code",
   "execution_count": 21,
   "metadata": {
    "collapsed": false
   },
   "outputs": [
    {
     "data": {
      "text/plain": [
       "[<matplotlib.lines.Line2D at 0x7f60fe711fd0>]"
      ]
     },
     "execution_count": 21,
     "metadata": {},
     "output_type": "execute_result"
    }
   ],
   "source": [
    "plot(b,dflux/np.sum(dflux))"
   ]
  },
  {
   "cell_type": "code",
   "execution_count": 34,
   "metadata": {
    "collapsed": false
   },
   "outputs": [
    {
     "data": {
      "text/plain": [
       "[<matplotlib.lines.Line2D at 0x7f60fe364e10>]"
      ]
     },
     "execution_count": 34,
     "metadata": {},
     "output_type": "execute_result"
    }
   ],
   "source": [
    "plot(b,np.cumsum(ndflux),marker='+')"
   ]
  },
  {
   "cell_type": "code",
   "execution_count": 26,
   "metadata": {
    "collapsed": false
   },
   "outputs": [
    {
     "data": {
      "text/plain": [
       "array([  0.00000000e+00,   2.95281773e+04,   5.90563545e+04, ...,\n",
       "         5.89972982e+07,   5.90268264e+07,   5.90563545e+07])"
      ]
     },
     "execution_count": 26,
     "metadata": {},
     "output_type": "execute_result"
    }
   ],
   "source": [
    "b"
   ]
  },
  {
   "cell_type": "code",
   "execution_count": 29,
   "metadata": {
    "collapsed": false
   },
   "outputs": [
    {
     "ename": "ValueError",
     "evalue": "The truth value of an array with more than one element is ambiguous. Use a.any() or a.all()",
     "output_type": "error",
     "traceback": [
      "\u001b[1;31m---------------------------------------------------------------------------\u001b[0m",
      "\u001b[1;31mValueError\u001b[0m                                Traceback (most recent call last)",
      "\u001b[1;32m<ipython-input-29-1d8e85c375a1>\u001b[0m in \u001b[0;36m<module>\u001b[1;34m()\u001b[0m\n\u001b[0;32m      1\u001b[0m \u001b[0ma\u001b[0m\u001b[1;33m=\u001b[0m\u001b[1;36m.1\u001b[0m\u001b[1;33m\u001b[0m\u001b[0m\n\u001b[0;32m      2\u001b[0m \u001b[0mw\u001b[0m\u001b[1;33m=\u001b[0m\u001b[1;36m.1\u001b[0m\u001b[1;33m*\u001b[0m\u001b[0ma\u001b[0m\u001b[1;33m\u001b[0m\u001b[0m\n\u001b[1;32m----> 3\u001b[1;33m \u001b[0mb\u001b[0m\u001b[1;33m[\u001b[0m\u001b[1;33m(\u001b[0m\u001b[0mndflux\u001b[0m \u001b[1;33m<\u001b[0m \u001b[0ma\u001b[0m\u001b[1;33m+\u001b[0m\u001b[0mw\u001b[0m\u001b[1;33m)\u001b[0m \u001b[1;32mand\u001b[0m \u001b[1;33m(\u001b[0m\u001b[0mndflux\u001b[0m \u001b[1;33m>\u001b[0m \u001b[0ma\u001b[0m\u001b[1;33m-\u001b[0m\u001b[0mw\u001b[0m\u001b[1;33m)\u001b[0m\u001b[1;33m]\u001b[0m\u001b[1;33m\u001b[0m\u001b[0m\n\u001b[0m",
      "\u001b[1;31mValueError\u001b[0m: The truth value of an array with more than one element is ambiguous. Use a.any() or a.all()"
     ]
    }
   ],
   "source": [
    "a=.1\n",
    "w=.1*a\n",
    "b[(ndflux < a+w) and (ndflux > a-w)]"
   ]
  },
  {
   "cell_type": "code",
   "execution_count": 43,
   "metadata": {
    "collapsed": false
   },
   "outputs": [],
   "source": [
    "perimeter_bins = b[np.logical_and( (np.cumsum(ndflux) > a-w) , ((np.cumsum(ndflux) < a+w)) )]\n",
    "low = perimeter_bins[0]\n",
    "high = perimeter_bins[-1]"
   ]
  },
  {
   "cell_type": "code",
   "execution_count": 45,
   "metadata": {
    "collapsed": false
   },
   "outputs": [
    {
     "data": {
      "text/plain": [
       "[<matplotlib.lines.Line2D at 0x7f60fe2fabd0>]"
      ]
     },
     "execution_count": 45,
     "metadata": {},
     "output_type": "execute_result"
    }
   ],
   "source": [
    "image.flatten()"
   ]
  },
  {
   "cell_type": "code",
   "execution_count": null,
   "metadata": {
    "collapsed": true
   },
   "outputs": [],
   "source": []
  }
 ],
 "metadata": {
  "kernelspec": {
   "display_name": "Python 2",
   "language": "python",
   "name": "python2"
  },
  "language_info": {
   "codemirror_mode": {
    "name": "ipython",
    "version": 2
   },
   "file_extension": ".py",
   "mimetype": "text/x-python",
   "name": "python",
   "nbconvert_exporter": "python",
   "pygments_lexer": "ipython2",
   "version": "2.7.6"
  }
 },
 "nbformat": 4,
 "nbformat_minor": 0
}
