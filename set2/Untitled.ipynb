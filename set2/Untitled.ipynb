{
 "cells": [
  {
   "cell_type": "code",
   "execution_count": 1,
   "metadata": {
    "collapsed": false
   },
   "outputs": [
    {
     "name": "stdout",
     "output_type": "stream",
     "text": [
      "Using matplotlib backend: Qt4Agg\n",
      "Populating the interactive namespace from numpy and matplotlib\n"
     ]
    }
   ],
   "source": [
    "%pylab"
   ]
  },
  {
   "cell_type": "code",
   "execution_count": 29,
   "metadata": {
    "collapsed": true
   },
   "outputs": [],
   "source": [
    "wavelength = []\n",
    "intensity =[]\n",
    "with open(\"slit9_of_Baldwin_et_al_1991_corrpos_sum_nall.dat\",\"r\") as f:\n",
    "    for line in f.readlines():\n",
    "        line = line.split(' ')\n",
    "        wavelength.append(float(line[0]))\n",
    "        intensity.append(float(line[1]))\n",
    "        \n",
    "wavelength = np.array(wavelength)\n",
    "intensity = np.array(intensity)"
   ]
  },
  {
   "cell_type": "code",
   "execution_count": 30,
   "metadata": {
    "collapsed": false
   },
   "outputs": [
    {
     "data": {
      "text/plain": [
       "[<matplotlib.lines.Line2D at 0xf1a7c50>]"
      ]
     },
     "execution_count": 30,
     "metadata": {},
     "output_type": "execute_result"
    }
   ],
   "source": [
    "plot(wavelength,intensity)"
   ]
  },
  {
   "cell_type": "code",
   "execution_count": 24,
   "metadata": {
    "collapsed": false
   },
   "outputs": [],
   "source": [
    "import pyfits\n",
    "\n",
    "image = np.copy(pyfits.open(\"emhalpha_flux.fits\")[0].data)\n"
   ]
  },
  {
   "cell_type": "code",
   "execution_count": 25,
   "metadata": {
    "collapsed": false
   },
   "outputs": [
    {
     "data": {
      "text/plain": [
       "<matplotlib.image.AxesImage at 0xefca208>"
      ]
     },
     "execution_count": 25,
     "metadata": {},
     "output_type": "execute_result"
    }
   ],
   "source": [
    "imshow(image)"
   ]
  },
  {
   "cell_type": "code",
   "execution_count": 37,
   "metadata": {
    "collapsed": false
   },
   "outputs": [
    {
     "data": {
      "text/plain": [
       "[<matplotlib.lines.Line2D at 0x24d132e8>]"
      ]
     },
     "execution_count": 37,
     "metadata": {},
     "output_type": "execute_result"
    }
   ],
   "source": [
    "plot(intensity)"
   ]
  },
  {
   "cell_type": "code",
   "execution_count": 91,
   "metadata": {
    "collapsed": false
   },
   "outputs": [],
   "source": [
    "def thresh(y,y0):\n",
    "    \"\"\"\n",
    "    Find all intervals above a threshold\n",
    "    \"\"\"\n",
    "    intervals = []\n",
    "    idx = []\n",
    "    \n",
    "    a = None\n",
    "    high = False\n",
    "    \n",
    "    for i,yy in enumerate(y):\n",
    "        \n",
    "        if yy >= y0:            \n",
    "            if high == False:\n",
    "                a = i\n",
    "                high = True\n",
    "        else:\n",
    "            if high == True:\n",
    "                intervals.append(y[a:i])\n",
    "                idx.append(a)\n",
    "                a = None\n",
    "            high = False\n",
    "            \n",
    "    return np.array(idx), np.array(intervals)\n",
    "             \n",
    "\n",
    "class tree(object):\n",
    "    \n",
    "    def __init__(self,y,offset,nlevels,accum='root'):\n",
    "        \n",
    "        if accum == 'root':\n",
    "            accum = np.zeros(len(y))\n",
    "        \n",
    "        \n",
    "        \n",
    "        self.accum = accum\n",
    "        self.y = y\n",
    "        self.offset = offset\n",
    "        self.max = max(y)\n",
    "        self.argmax = np.argmax(y)+offset\n",
    "        \n",
    "        print self.argmax\n",
    "        \n",
    "        count[self.argmax] += 1\n",
    "        \n",
    "        if (nlevels == 0):\n",
    "            self.subtrees = None\n",
    "            return\n",
    "        \n",
    "        idx, intervals = thresh(y,levels[0])\n",
    "        idx += offset\n",
    "        \n",
    "        self.idx = idx\n",
    "        self.intervals = intervals\n",
    "        \n",
    "        self.subtrees = []\n",
    "        \n",
    "        for _idx, _interval in zip(idx,intervals):\n",
    "            \n",
    "            self.subtrees.append(tree(_interval,_idx,levels[1:],count))\n",
    "        \n"
   ]
  },
  {
   "cell_type": "code",
   "execution_count": 101,
   "metadata": {
    "collapsed": false
   },
   "outputs": [
    {
     "name": "stdout",
     "output_type": "stream",
     "text": [
      "1574\n"
     ]
    }
   ],
   "source": [
    "m = max(intensity)\n",
    "levels = np.arange(min(intensity),m,100)\n",
    "\n",
    "count = np.zeros(len(intensity))\n",
    "root = tree(intensity,0,levels,count)"
   ]
  },
  {
   "cell_type": "code",
   "execution_count": 98,
   "metadata": {
    "collapsed": false,
    "scrolled": true
   },
   "outputs": [
    {
     "data": {
      "text/plain": [
       "[<matplotlib.lines.Line2D at 0x261b7d68>]"
      ]
     },
     "execution_count": 98,
     "metadata": {},
     "output_type": "execute_result"
    }
   ],
   "source": [
    "plot(count)"
   ]
  },
  {
   "cell_type": "code",
   "execution_count": 102,
   "metadata": {
    "collapsed": false
   },
   "outputs": [
    {
     "data": {
      "text/plain": [
       "[]"
      ]
     },
     "execution_count": 102,
     "metadata": {},
     "output_type": "execute_result"
    }
   ],
   "source": [
    "root.subtrees"
   ]
  },
  {
   "cell_type": "code",
   "execution_count": 97,
   "metadata": {
    "collapsed": false
   },
   "outputs": [
    {
     "data": {
      "text/plain": [
       "array([  7.99469922e+04,   8.00469922e+04,   8.01469922e+04, ...,\n",
       "         3.82937747e+08,   3.82937847e+08,   3.82937947e+08])"
      ]
     },
     "execution_count": 97,
     "metadata": {},
     "output_type": "execute_result"
    }
   ],
   "source": [
    "levels"
   ]
  },
  {
   "cell_type": "code",
   "execution_count": 120,
   "metadata": {
    "collapsed": false
   },
   "outputs": [
    {
     "data": {
      "text/plain": [
       "[<matplotlib.lines.Line2D at 0x300e4208>]"
      ]
     },
     "execution_count": 120,
     "metadata": {},
     "output_type": "execute_result"
    }
   ],
   "source": [
    "h,b=np.histogram(image,bins=10000)\n",
    "plot(b[:-1],h)"
   ]
  },
  {
   "cell_type": "code",
   "execution_count": 119,
   "metadata": {
    "collapsed": false
   },
   "outputs": [
    {
     "data": {
      "text/plain": [
       "2606616"
      ]
     },
     "execution_count": 119,
     "metadata": {},
     "output_type": "execute_result"
    }
   ],
   "source": [
    "size(image)"
   ]
  },
  {
   "cell_type": "code",
   "execution_count": 121,
   "metadata": {
    "collapsed": false
   },
   "outputs": [
    {
     "data": {
      "text/plain": [
       "array([36330,     0,     0, ...,     0,     0,     1])"
      ]
     },
     "execution_count": 121,
     "metadata": {},
     "output_type": "execute_result"
    }
   ],
   "source": [
    "h"
   ]
  },
  {
   "cell_type": "code",
   "execution_count": 122,
   "metadata": {
    "collapsed": true
   },
   "outputs": [],
   "source": [
    "dflux = (b[:-1] + .5*np.diff(b)) *h"
   ]
  },
  {
   "cell_type": "code",
   "execution_count": 125,
   "metadata": {
    "collapsed": false
   },
   "outputs": [
    {
     "data": {
      "text/plain": [
       "[<matplotlib.lines.Line2D at 0x30632320>]"
      ]
     },
     "execution_count": 125,
     "metadata": {},
     "output_type": "execute_result"
    }
   ],
   "source": [
    "plot(b[:-1],dflux/np.sum(dflux))"
   ]
  },
  {
   "cell_type": "code",
   "execution_count": 128,
   "metadata": {
    "collapsed": false
   },
   "outputs": [
    {
     "data": {
      "text/plain": [
       "[<matplotlib.lines.Line2D at 0x3091d828>]"
      ]
     },
     "execution_count": 128,
     "metadata": {},
     "output_type": "execute_result"
    }
   ],
   "source": [
    "plot(b[:-1],np.cumsum(dflux/np.sum(dflux)))"
   ]
  },
  {
   "cell_type": "code",
   "execution_count": null,
   "metadata": {
    "collapsed": true
   },
   "outputs": [],
   "source": []
  }
 ],
 "metadata": {
  "kernelspec": {
   "display_name": "Python 2",
   "language": "python",
   "name": "python2"
  },
  "language_info": {
   "codemirror_mode": {
    "name": "ipython",
    "version": 2
   },
   "file_extension": ".py",
   "mimetype": "text/x-python",
   "name": "python",
   "nbconvert_exporter": "python",
   "pygments_lexer": "ipython2",
   "version": "2.7.10"
  }
 },
 "nbformat": 4,
 "nbformat_minor": 0
}
