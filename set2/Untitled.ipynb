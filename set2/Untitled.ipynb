{
 "cells": [
  {
   "cell_type": "code",
   "execution_count": 129,
   "metadata": {
    "collapsed": false
   },
   "outputs": [
    {
     "name": "stdout",
     "output_type": "stream",
     "text": [
      "Using matplotlib backend: Qt4Agg\n",
      "Populating the interactive namespace from numpy and matplotlib\n"
     ]
    },
    {
     "name": "stderr",
     "output_type": "stream",
     "text": [
      "WARNING: pylab import has clobbered these variables: ['f']\n",
      "`%matplotlib` prevents importing * from pylab and numpy\n"
     ]
    }
   ],
   "source": [
    "%pylab"
   ]
  },
  {
   "cell_type": "code",
   "execution_count": 130,
   "metadata": {
    "collapsed": true
   },
   "outputs": [],
   "source": [
    "wavelength = []\n",
    "intensity =[]\n",
    "with open(\"slit9_of_Baldwin_et_al_1991_corrpos_sum_nall.dat\",\"r\") as f:\n",
    "    for line in f.readlines():\n",
    "        line = line.split(' ')\n",
    "        wavelength.append(float(line[0]))\n",
    "        intensity.append(float(line[1]))\n",
    "        \n",
    "wavelength = np.array(wavelength)\n",
    "intensity = np.array(intensity)"
   ]
  },
  {
   "cell_type": "code",
   "execution_count": 131,
   "metadata": {
    "collapsed": false
   },
   "outputs": [
    {
     "data": {
      "text/plain": [
       "[<matplotlib.lines.Line2D at 0x30b380b8>]"
      ]
     },
     "execution_count": 131,
     "metadata": {},
     "output_type": "execute_result"
    }
   ],
   "source": [
    "plot(wavelength,intensity)"
   ]
  },
  {
   "cell_type": "code",
   "execution_count": 132,
   "metadata": {
    "collapsed": false
   },
   "outputs": [],
   "source": [
    "import pyfits\n",
    "image = np.copy(pyfits.open(\"emhalpha_flux.fits\")[0].data)"
   ]
  },
  {
   "cell_type": "code",
   "execution_count": 147,
   "metadata": {
    "collapsed": false
   },
   "outputs": [
    {
     "data": {
      "text/plain": [
       "<matplotlib.image.AxesImage at 0x43131a90>"
      ]
     },
     "execution_count": 147,
     "metadata": {},
     "output_type": "execute_result"
    }
   ],
   "source": [
    "imshow(image)"
   ]
  },
  {
   "cell_type": "code",
   "execution_count": 134,
   "metadata": {
    "collapsed": false
   },
   "outputs": [
    {
     "data": {
      "text/plain": [
       "[<matplotlib.lines.Line2D at 0x387cd128>]"
      ]
     },
     "execution_count": 134,
     "metadata": {},
     "output_type": "execute_result"
    }
   ],
   "source": [
    "plot(intensity)"
   ]
  },
  {
   "cell_type": "code",
   "execution_count": 7,
   "metadata": {
    "collapsed": false
   },
   "outputs": [],
   "source": [
    "def thresh(y,y0):\n",
    "    \"\"\"\n",
    "    Find all intervals above a threshold\n",
    "    \"\"\"\n",
    "    intervals = []\n",
    "    idx = []\n",
    "    \n",
    "    a = None\n",
    "    high = False\n",
    "    \n",
    "    for i,yy in enumerate(y):\n",
    "        \n",
    "        if yy >= y0:            \n",
    "            if high == False:\n",
    "                a = i\n",
    "                high = True\n",
    "        else:\n",
    "            if high == True:\n",
    "                intervals.append(y[a:i])\n",
    "                idx.append(a)\n",
    "                a = None\n",
    "            high = False\n",
    "            \n",
    "    return np.array(idx), np.array(intervals)\n",
    "             \n",
    "        \n"
   ]
  },
  {
   "cell_type": "code",
   "execution_count": 149,
   "metadata": {
    "collapsed": false
   },
   "outputs": [],
   "source": [
    "def ndflux(image,bins=None):\n",
    "    \n",
    "    if bins == None:\n",
    "        bins = .001 * np.size(image)\n",
    "\n",
    "    h,b = np.histogram(image,bins=bins)\n",
    "    b = b[:-1] + .5*np.diff(b)\n",
    "    dflux = b * h    \n",
    "    ndflux = dflux/np.sum(dflux)\n",
    "    \n",
    "    return ndflux\n",
    "\n",
    "def perimeter(image, a, w,ndf=None):\n",
    "    \n",
    "    if bins == None:\n",
    "        bins = .001 * np.size(image)\n",
    "        \n",
    "    if ndf == None:\n",
    "        ndf = ndflux(image)\n",
    "    \n",
    "    perimeter_bins = b[np.logical_and( (np.cumsum(ndf) > a-w) , ((np.cumsum(ndf) < a+w)) )]\n",
    "    low = perimeter_bins[0]\n",
    "    high = perimeter_bins[-1]\n",
    "\n",
    "    perimeter_x = []\n",
    "    perimeter_y = []\n",
    "\n",
    "    for i,row in enumerate(image):\n",
    "        for j,val in enumerate(row):\n",
    "            if low <= val <= high:\n",
    "                perimeter_x.append(i)\n",
    "                perimeter_y.append(j)\n",
    "            \n",
    "    return np.array(perimeter_x), np.array(perimeter_y)\n",
    "\n",
    "def center(image):\n",
    "    \n",
    "    x,y = image.shape\n",
    "    \n",
    "    m,cx,cy = 0.,0.,0.\n",
    "    \n",
    "    for xx in range(x):\n",
    "        for yy in range(y):\n",
    "            val = image[xx][yy]\n",
    "            cx += val*xx\n",
    "            cy += val*yy\n",
    "            m += val\n",
    "        \n",
    "    return cx/m, cy/m\n",
    "        \n",
    "def peak(image):\n",
    "    i = np.argmax(image.flatten())\n",
    "    lx,ly = image.shape\n",
    "    return i/(ly),i%(ly)\n",
    "\n",
    "def r_eff(px,py,cx,cy):\n",
    "    \n",
    "    r = np.sqrt((px-cx)**2 + (py-cy)**2)/(len(px))\n",
    "    return np.sum(r)\n",
    "    "
   ]
  },
  {
   "cell_type": "code",
   "execution_count": 148,
   "metadata": {
    "collapsed": false
   },
   "outputs": [
    {
     "data": {
      "text/plain": [
       "<matplotlib.image.AxesImage at 0x5102e208>"
      ]
     },
     "execution_count": 148,
     "metadata": {},
     "output_type": "execute_result"
    }
   ],
   "source": [
    "import scipy.ndimage.filters\n",
    "\n",
    "image2 = scipy.ndimage.filters.gaussian_filter(image,[50,50])\n",
    "\n",
    "x,y=perimeter(image2,.1,.01,2000)\n",
    "\n",
    "disp = np.copy(image2)\n",
    "\n",
    "for xx,yy in zip(x,y):\n",
    "    disp[xx][yy] = 0\n",
    "\n",
    "cx,cy = center(image2)\n",
    "cx2,cy2 = peak(image2)\n",
    "\n",
    "imshow(disp)\n",
    "\n"
   ]
  },
  {
   "cell_type": "code",
   "execution_count": 46,
   "metadata": {
    "collapsed": false
   },
   "outputs": [
    {
     "data": {
      "text/plain": [
       "765.23765838161523"
      ]
     },
     "execution_count": 46,
     "metadata": {},
     "output_type": "execute_result"
    }
   ],
   "source": [
    "r_eff(x,y,cx,cy)"
   ]
  },
  {
   "cell_type": "code",
   "execution_count": 108,
   "metadata": {
    "collapsed": false
   },
   "outputs": [
    {
     "data": {
      "text/plain": [
       "792.96040232888652"
      ]
     },
     "execution_count": 108,
     "metadata": {},
     "output_type": "execute_result"
    }
   ],
   "source": [
    "r_eff(x,y,cx2,cy2)"
   ]
  },
  {
   "cell_type": "code",
   "execution_count": null,
   "metadata": {
    "collapsed": true
   },
   "outputs": [],
   "source": []
  },
  {
   "cell_type": "code",
   "execution_count": 145,
   "metadata": {
    "collapsed": false
   },
   "outputs": [],
   "source": [
    "a = np.linspace(.01,.3,25)\n",
    "r = []\n",
    "r2 = []\n",
    "r3 = []\n",
    "r4 = []\n",
    "for aa in a:\n",
    "    x,y=perimeter(image2,aa,.01,2000)\n",
    "    r.append(r_eff(x,y,cx,cy))\n",
    "    r2.append(r_eff(x,y,cx2,cy2))\n",
    "    x,y=perimeter(image2,aa,.05,2000)\n",
    "    r3.append(r_eff(x,y,cx,cy))\n",
    "    x,y=perimeter(image,aa,.05,2000)\n",
    "    r4.append(r_eff(x,y,cx,cy))\n",
    "    "
   ]
  },
  {
   "cell_type": "code",
   "execution_count": 144,
   "metadata": {
    "collapsed": false
   },
   "outputs": [
    {
     "data": {
      "text/plain": [
       "<matplotlib.collections.PathCollection at 0x43e7cbe0>"
      ]
     },
     "execution_count": 144,
     "metadata": {},
     "output_type": "execute_result"
    }
   ],
   "source": [
    "scatter(a,r)\n",
    "scatter(a,r2)\n",
    "scatter(a,r3)\n",
    "scatter(a,r4)"
   ]
  },
  {
   "cell_type": "code",
   "execution_count": 153,
   "metadata": {
    "collapsed": false
   },
   "outputs": [
    {
     "data": {
      "text/plain": [
       "[<matplotlib.lines.Line2D at 0x43c2d0f0>]"
      ]
     },
     "execution_count": 153,
     "metadata": {},
     "output_type": "execute_result"
    }
   ],
   "source": [
    "plot(np.cumsum(np.sort(image.flatten()))/np.sum(image.flatten()))"
   ]
  },
  {
   "cell_type": "code",
   "execution_count": 159,
   "metadata": {
    "collapsed": false
   },
   "outputs": [
    {
     "data": {
      "text/plain": [
       "[<matplotlib.lines.Line2D at 0x391856a0>]"
      ]
     },
     "execution_count": 159,
     "metadata": {},
     "output_type": "execute_result"
    }
   ],
   "source": [
    "plot(np.cumsum(ndflux(image,bins=image.size)))\n",
    "plot(np.cumsum(ndflux(image,bins=2000)))"
   ]
  },
  {
   "cell_type": "code",
   "execution_count": null,
   "metadata": {
    "collapsed": true
   },
   "outputs": [],
   "source": []
  }
 ],
 "metadata": {
  "kernelspec": {
   "display_name": "Python 2",
   "language": "python",
   "name": "python2"
  },
  "language_info": {
   "codemirror_mode": {
    "name": "ipython",
    "version": 2
   },
   "file_extension": ".py",
   "mimetype": "text/x-python",
   "name": "python",
   "nbconvert_exporter": "python",
   "pygments_lexer": "ipython2",
   "version": "2.7.10"
  }
 },
 "nbformat": 4,
 "nbformat_minor": 0
}
