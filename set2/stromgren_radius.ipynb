{
 "cells": [
  {
   "cell_type": "code",
   "execution_count": 3,
   "metadata": {
    "collapsed": false
   },
   "outputs": [
    {
     "name": "stdout",
     "output_type": "stream",
     "text": [
      "Using matplotlib backend: Qt4Agg\n",
      "Populating the interactive namespace from numpy and matplotlib\n"
     ]
    }
   ],
   "source": [
    "%pylab"
   ]
  },
  {
   "cell_type": "code",
   "execution_count": 45,
   "metadata": {
    "collapsed": false
   },
   "outputs": [],
   "source": [
    "import pyfits\n",
    "import scipy\n",
    "import scipy.ndimage.filters\n",
    "\n",
    "\n",
    "def ndflux(image,bins=None):\n",
    "    \n",
    "    if bins == None:\n",
    "        bins = .001 * np.size(image)\n",
    "\n",
    "    h,b = np.histogram(image,bins=bins)\n",
    "    b = b[:-1] + .5*np.diff(b)\n",
    "    dflux = b * h    \n",
    "    ndf = dflux/np.sum(dflux)\n",
    "    \n",
    "    return b,ndf\n",
    "\n",
    "def perimeter(image, a, w,ndf=None,b=None):\n",
    "        \n",
    "    if ndf == None:\n",
    "        b,ndf = ndflux(image)\n",
    "    \n",
    "    perimeter_bins = b[np.logical_and( (np.cumsum(ndf) > a-w) , ((np.cumsum(ndf) < a+w)) )]\n",
    "    \n",
    "    low = perimeter_bins[0]\n",
    "    high = perimeter_bins[-1]\n",
    "\n",
    "    perimeter_x = []\n",
    "    perimeter_y = []\n",
    "\n",
    "    for i,row in enumerate(image):\n",
    "        for j,val in enumerate(row):\n",
    "            if low <= val <= high:\n",
    "                perimeter_x.append(i)\n",
    "                perimeter_y.append(j)\n",
    "            \n",
    "    return np.array(perimeter_x), np.array(perimeter_y)\n",
    "\n",
    "def mean(image):\n",
    "    \n",
    "    x,y = image.shape\n",
    "    \n",
    "    m,cx,cy = 0.,0.,0.\n",
    "    \n",
    "    for xx in range(x):\n",
    "        for yy in range(y):\n",
    "            val = image[xx][yy]\n",
    "            cx += val*xx\n",
    "            cy += val*yy\n",
    "            m += val\n",
    "        \n",
    "    return cx/m, cy/m\n",
    "        \n",
    "def peak(image):\n",
    "    i = np.argmax(image.flatten())\n",
    "    lx,ly = image.shape\n",
    "    return i/(ly),i%(ly)\n",
    "\n",
    "def r_eff(px,py,cx,cy):\n",
    "    \n",
    "    r = np.sqrt((px-cx)**2 + (py-cy)**2)/(len(px))\n",
    "    return np.sum(r)\n",
    "    \n",
    "    \n",
    "def display(px,py,img):\n",
    "    disp = np.copy(img)\n",
    "    for x,y in zip(px,py):\n",
    "        disp[x][y] = 0\n",
    "    return disp"
   ]
  },
  {
   "cell_type": "code",
   "execution_count": 46,
   "metadata": {
    "collapsed": false
   },
   "outputs": [
    {
     "name": "stderr",
     "output_type": "stream",
     "text": [
      "C:\\Users\\alex\\Anaconda\\lib\\site-packages\\IPython\\kernel\\__main__.py:20: FutureWarning: comparison to `None` will result in an elementwise object comparison in the future.\n"
     ]
    }
   ],
   "source": [
    "image = np.copy(pyfits.open(\"emhalpha_flux.fits\")[0].data)\n",
    "\n",
    "images = [image,\n",
    "          scipy.ndimage.filters.gaussian_filter(image,[50,50]),\n",
    "          scipy.ndimage.filters.gaussian_filter(image,[100,100])]\n",
    "\n",
    "a = np.linspace(.01,.3,25)\n",
    "w = [.01,.05,.1]\n",
    "\n",
    "result_a = []\n",
    "result_r =[]\n",
    "\n",
    "for img in images:\n",
    "    b,ndf = ndflux(img)\n",
    "    cx_m,cy_m = mean(img)\n",
    "    cx_p,cy_p = peak(img)\n",
    "    for aa in a:\n",
    "        for ww in w:\n",
    "            px,py=perimeter(img,aa,ww,ndf,b)\n",
    "            result_a.append(aa)\n",
    "            result_r.append(r_eff(px,py,cx_m,cy_m))\n",
    "            result_a.append(aa)\n",
    "            result_r.append(r_eff(px,py,cx_p,cy_p))\n",
    "    "
   ]
  },
  {
   "cell_type": "code",
   "execution_count": 7,
   "metadata": {
    "collapsed": false
   },
   "outputs": [
    {
     "data": {
      "text/plain": [
       "<matplotlib.collections.PathCollection at 0x13087940>"
      ]
     },
     "execution_count": 7,
     "metadata": {},
     "output_type": "execute_result"
    }
   ],
   "source": [
    "scatter(result_a,result_r)"
   ]
  },
  {
   "cell_type": "code",
   "execution_count": 17,
   "metadata": {
    "collapsed": true
   },
   "outputs": [],
   "source": [
    "def Rs(Q0,T,ab,nh):\n",
    "    \n",
    "    return (3*Q0/(4*np.pi*nh*nh*ab))**(1/3.)"
   ]
  },
  {
   "cell_type": "code",
   "execution_count": 43,
   "metadata": {
    "collapsed": false
   },
   "outputs": [],
   "source": [
    "a=.1\n",
    "w=.1\n",
    "\n",
    "px,py=perimeter(images[1],a,w)"
   ]
  },
  {
   "cell_type": "code",
   "execution_count": 41,
   "metadata": {
    "collapsed": false
   },
   "outputs": [
    {
     "data": {
      "text/plain": [
       "[<matplotlib.lines.Line2D at 0x13649710>]"
      ]
     },
     "execution_count": 41,
     "metadata": {},
     "output_type": "execute_result"
    }
   ],
   "source": [
    "plot(b,ndf)"
   ]
  },
  {
   "cell_type": "code",
   "execution_count": 48,
   "metadata": {
    "collapsed": false
   },
   "outputs": [
    {
     "data": {
      "text/plain": [
       "<matplotlib.image.AxesImage at 0x1f06aac8>"
      ]
     },
     "execution_count": 48,
     "metadata": {},
     "output_type": "execute_result"
    }
   ],
   "source": [
    "imshow(display(px,py,images[0]))"
   ]
  },
  {
   "cell_type": "code",
   "execution_count": null,
   "metadata": {
    "collapsed": true
   },
   "outputs": [],
   "source": []
  }
 ],
 "metadata": {
  "kernelspec": {
   "display_name": "Python 2",
   "language": "python",
   "name": "python2"
  },
  "language_info": {
   "codemirror_mode": {
    "name": "ipython",
    "version": 2
   },
   "file_extension": ".py",
   "mimetype": "text/x-python",
   "name": "python",
   "nbconvert_exporter": "python",
   "pygments_lexer": "ipython2",
   "version": "2.7.9"
  }
 },
 "nbformat": 4,
 "nbformat_minor": 0
}
